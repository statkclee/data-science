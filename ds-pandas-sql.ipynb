{
 "cells": [
  {
   "cell_type": "markdown",
   "metadata": {},
   "source": [
    "# 관계형 데이터베이스\n",
    "\n",
    "인간이 생각하는 개념 또는 정보의 세계에서는 의미있는 정보의 단위를 **엔티티(entity)** 를 관계형 데이터베이스는 테이블(table)로 표현한다.\n",
    "각 행은 레코드라고 불리며 엔티티의 인스턴스(instance)가 되며, 각 칼럼은 속성(attribute)에 대한 정보가 담겨진다.\n",
    "테이블은 유일무이한 키(unique key)로 연결되어 있고, SQL(Structured Query Language)를 이용하여 데이터베이스와 상호작용하게 된다.\n",
    "\n",
    "<img src=\"fig/rdbms_overview.png\" alt=\"RDMBS 개요\" width=\"47%\" />\n",
    "\n",
    "## Sqlite\n",
    "\n",
    "관계형 데이터베이스에 데이터를 관리하게 되면 후속 데이터 분석과정에서 발생할 수 있는 다양한 문제를 미연에 방지할 수 있고, 무엇보다 대용량의 데이터를 필요할 때마다 접속해서 가져온다는 측면에서 편리하다.\n",
    "관계형 데이터베이스에는 마이크로소프트 MS SQL, 오라클, PostreSQL, MySQL, Sqlite 등이 있는데 Sqlite는 로컬 컴퓨터에 파일 형태로 존재해서 사용이 단순하다는 측면에서 편리하다. [SQLite](https://www.sqlite.org/index.html)에 대한 자세한 사항은 웹사이트를 참조한다.\n",
    "\n",
    "## 데이터베이스와 SQL\n",
    "\n",
    "데이터베이스에 데이터가 테이블 형태로 서로 유기적으로 잘 연결되어 정리되어 있는 상태에서 SQL 쿼리를 사용해서 원하는 데이터를 가져오거나 변경을 가할 수 있다. 이는 크게 두가지 단계로 나눠진다.\n",
    "\n",
    "1. 데이터베이스에 연결\n",
    "1. 쿼리를 데이터베이스에 전달\n",
    "\n",
    "## 파이썬 판다스\n",
    "\n",
    "`pd.read_csv()` 메쏘드를 사용하게 되면 SQL 문을 직접 실어 보내서 판다스 데이터프레임으로 변환작업하는 것이 가능하다.\n",
    "이를 위해서 먼저 [SQLAlchemy](https://www.sqlalchemy.org/)를 데이터베이스와 연결시키는 핵심엔진으로 사용한다.\n",
    "만약, SQLAlchemy 모듈이 설치되지 않은 경우, `!pip install sqlalchemy` 명령어를 사용해서 설치한다.\n",
    "\n",
    "<img src=\"fig/python-sqlalchemy.png\" alt=\"RDMBS 개요\" width=\"57%\" />\n"
   ]
  },
  {
   "cell_type": "markdown",
   "metadata": {},
   "source": [
    "# 소프트웨어 카펜트리 - `survey.db`\n",
    "\n",
    "[R과 SQL - 소프트웨어 카펜트리](data-handling-sql.html) 수업에서 제작한 `survey.db` SQLite 데이터베이스를 파이썬 데이터분석 작업흐름에 추출하여 기본적인 통계분석작업을 수행해 본다."
   ]
  },
  {
   "cell_type": "code",
   "execution_count": 5,
   "metadata": {
    "scrolled": true
   },
   "outputs": [
    {
     "name": "stdout",
     "output_type": "stream",
     "text": [
      "      ident   personal    family\n",
      "0      dyer    William      Dyer\n",
      "1        pb      Frank   Pabodie\n",
      "2      lake   Anderson      Lake\n",
      "3       roe  Valentina   Roerich\n",
      "4  danforth      Frank  Danforth\n"
     ]
    }
   ],
   "source": [
    "import pandas as pd\n",
    "from sqlalchemy import create_engine\n",
    "\n",
    "# SQL 엔진 연결\n",
    "sql_engine = create_engine(\"sqlite:///data/survey.db\")\n",
    "\n",
    "# SQL 엔진을 통해 테이블 가져오기\n",
    "person = pd.read_sql(\"Person\", sql_engine)\n",
    "\n",
    "print(person)"
   ]
  },
  {
   "cell_type": "markdown",
   "metadata": {},
   "source": [
    "# SQL 쿼리 작업\n",
    "\n",
    "앞서 `sql_engine`을 통해 데이터베이스 연결작업이 완료되면, 다음 단계로 `pd.read_sql()` 메쏘드 내부에 SQL 쿼리를 작성해서 원하는 결과를 데이터프레임으로 가져오는 작업을 수행한다."
   ]
  },
  {
   "cell_type": "code",
   "execution_count": 11,
   "metadata": {
    "scrolled": true
   },
   "outputs": [
    {
     "name": "stdout",
     "output_type": "stream",
     "text": [
      "   taken person quant  reading\n",
      "0    734   lake   sal     0.05\n",
      "1    751   lake   sal     0.10\n",
      "2    752   lake   rad     2.19\n",
      "3    752   lake   sal     0.09\n",
      "4    752   lake  temp   -16.00\n",
      "5    752    roe   sal    41.60\n",
      "6    837   lake   rad     1.46\n",
      "7    837   lake   sal     0.21\n",
      "8    837    roe   sal    22.50\n",
      "9    844    roe   rad    11.25\n"
     ]
    }
   ],
   "source": [
    "query = '''\n",
    "SELECT * \n",
    "FROM Survey \n",
    "WHERE person='lake' \n",
    "  OR  person='roe';\n",
    "'''\n",
    "\n",
    "# SQL 엔진을 통해 테이블 가져오기\n",
    "lake_roe = pd.read_sql(query, sql_engine)\n",
    "\n",
    "print(lake_roe)\n"
   ]
  },
  {
   "cell_type": "markdown",
   "metadata": {},
   "source": [
    "# 테이블 병합\n",
    "\n",
    "`Site` 테이블과 `Visited` 테이블을 결합시켜 새로운 판다스 데이터프레임을 생성시킬 수 있다. \n"
   ]
  },
  {
   "cell_type": "code",
   "execution_count": 14,
   "metadata": {},
   "outputs": [
    {
     "name": "stdout",
     "output_type": "stream",
     "text": [
      "      lat    long       dated quant  reading\n",
      "0  -49.85 -128.57  1927-02-08   rad     9.82\n",
      "1  -49.85 -128.57  1927-02-08   sal     0.13\n",
      "2  -49.85 -128.57  1927-02-10   rad     7.80\n",
      "3  -49.85 -128.57  1927-02-10   sal     0.09\n",
      "4  -47.15 -126.72  1939-01-07   rad     8.41\n",
      "5  -47.15 -126.72  1939-01-07   sal     0.05\n",
      "6  -47.15 -126.72  1939-01-07  temp   -21.50\n",
      "7  -47.15 -126.72  1930-01-12   rad     7.22\n",
      "8  -47.15 -126.72  1930-01-12   sal     0.06\n",
      "9  -47.15 -126.72  1930-01-12  temp   -26.00\n",
      "10 -47.15 -126.72  1930-02-26   rad     4.35\n",
      "11 -47.15 -126.72  1930-02-26   sal     0.10\n",
      "12 -47.15 -126.72  1930-02-26  temp   -18.50\n",
      "13 -48.87 -123.40  1932-01-14   rad     1.46\n",
      "14 -48.87 -123.40  1932-01-14   sal     0.21\n",
      "15 -48.87 -123.40  1932-01-14   sal    22.50\n",
      "16 -49.85 -128.57  1932-03-22   rad    11.25\n"
     ]
    }
   ],
   "source": [
    "query_join = '''\n",
    "SELECT Site.lat, Site.long, Visited.dated, Survey.quant, Survey.reading\n",
    "FROM   Site join Visited \n",
    "JOIN   Survey\n",
    "ON     Site.name=Visited.site\n",
    "  AND  Visited.ident=Survey.taken\n",
    "  AND  Visited.dated is not null;\n",
    "'''\n",
    "\n",
    "# SQL 엔진을 통해 테이블 가져오기\n",
    "survey_df = pd.read_sql(query_join, sql_engine)\n",
    "\n",
    "print(survey_df)"
   ]
  },
  {
   "cell_type": "markdown",
   "metadata": {},
   "source": [
    "# 시각화\n",
    "\n",
    "판다스 데이터프레임으로 만들어지면 다음 단계로 시각화도 가능하다. `! pip install seaborn` 명령어를 실행하여 다양한 시각화 라이브러리 중 `seaborn`을 사용해서 시각화에 도전해 본다."
   ]
  },
  {
   "cell_type": "code",
   "execution_count": 1,
   "metadata": {
    "scrolled": true
   },
   "outputs": [
    {
     "ename": "NameError",
     "evalue": "name 'pd' is not defined",
     "output_type": "error",
     "traceback": [
      "\u001b[0;31m---------------------------------------------------------------------------\u001b[0m",
      "\u001b[0;31mNameError\u001b[0m                                 Traceback (most recent call last)",
      "\u001b[0;32m<ipython-input-1-c9583fda6e92>\u001b[0m in \u001b[0;36m<module>\u001b[0;34m\u001b[0m\n\u001b[1;32m      3\u001b[0m \u001b[0;32mimport\u001b[0m \u001b[0mseaborn\u001b[0m \u001b[0;32mas\u001b[0m \u001b[0msns\u001b[0m\u001b[0;34m\u001b[0m\u001b[0;34m\u001b[0m\u001b[0m\n\u001b[1;32m      4\u001b[0m \u001b[0;34m\u001b[0m\u001b[0m\n\u001b[0;32m----> 5\u001b[0;31m \u001b[0msurvey_df\u001b[0m\u001b[0;34m[\u001b[0m\u001b[0;34m'reading'\u001b[0m\u001b[0;34m]\u001b[0m \u001b[0;34m=\u001b[0m \u001b[0mpd\u001b[0m\u001b[0;34m.\u001b[0m\u001b[0mto_numeric\u001b[0m\u001b[0;34m(\u001b[0m\u001b[0msurvey_df\u001b[0m\u001b[0;34m[\u001b[0m\u001b[0;34m'reading'\u001b[0m\u001b[0;34m]\u001b[0m\u001b[0;34m)\u001b[0m\u001b[0;34m\u001b[0m\u001b[0;34m\u001b[0m\u001b[0m\n\u001b[0m\u001b[1;32m      6\u001b[0m \u001b[0;34m\u001b[0m\u001b[0m\n\u001b[1;32m      7\u001b[0m \u001b[0msns\u001b[0m\u001b[0;34m.\u001b[0m\u001b[0mlmplot\u001b[0m\u001b[0;34m(\u001b[0m\u001b[0;34m\"lat\"\u001b[0m\u001b[0;34m,\u001b[0m \u001b[0;34m\"long\"\u001b[0m\u001b[0;34m,\u001b[0m \u001b[0mdata\u001b[0m\u001b[0;34m=\u001b[0m\u001b[0msurvey_df\u001b[0m\u001b[0;34m,\u001b[0m \u001b[0mfit_reg\u001b[0m\u001b[0;34m=\u001b[0m\u001b[0;32mFalse\u001b[0m\u001b[0;34m,\u001b[0m \u001b[0mcol\u001b[0m\u001b[0;34m=\u001b[0m\u001b[0;34m'quant'\u001b[0m\u001b[0;34m)\u001b[0m\u001b[0;34m\u001b[0m\u001b[0;34m\u001b[0m\u001b[0m\n",
      "\u001b[0;31mNameError\u001b[0m: name 'pd' is not defined"
     ]
    }
   ],
   "source": [
    "%matplotlib inline\n",
    "\n",
    "import seaborn as sns\n",
    "\n",
    "survey_df['reading'] = pd.to_numeric(survey_df['reading'])\n",
    "\n",
    "sns.lmplot(\"lat\", \"long\", data=survey_df, fit_reg=False, col='quant')"
   ]
  }
 ],
 "metadata": {
  "kernelspec": {
   "display_name": "Python 3",
   "language": "python",
   "name": "python3"
  },
  "language_info": {
   "codemirror_mode": {
    "name": "ipython",
    "version": 3
   },
   "file_extension": ".py",
   "mimetype": "text/x-python",
   "name": "python",
   "nbconvert_exporter": "python",
   "pygments_lexer": "ipython3",
   "version": "3.7.3"
  },
  "toc": {
   "base_numbering": 1,
   "nav_menu": {},
   "number_sections": true,
   "sideBar": true,
   "skip_h1_title": false,
   "title_cell": "Table of Contents",
   "title_sidebar": "Contents",
   "toc_cell": false,
   "toc_position": {},
   "toc_section_display": true,
   "toc_window_display": false
  }
 },
 "nbformat": 4,
 "nbformat_minor": 2
}
